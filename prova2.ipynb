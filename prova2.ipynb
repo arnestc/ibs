{
 "cells": [
  {
   "attachments": {},
   "cell_type": "markdown",
   "metadata": {},
   "source": [
    "# How to read real sequences from online database"
   ]
  },
  {
   "cell_type": "code",
   "execution_count": 1,
   "metadata": {},
   "outputs": [],
   "source": [
    "using FastaIO\n",
    "using OffsetArrays\n",
    "using PyPlot\n",
    "using DelimitedFiles\n",
    "using BenchmarkTools\n",
    "using StatsBase\n",
    "using LinearAlgebra\n",
    "using Printf\n",
    "using HTTP"
   ]
  },
  {
   "cell_type": "code",
   "execution_count": null,
   "metadata": {},
   "outputs": [],
   "source": [
    "function sequenceDownload(sequence)\n",
    "\n",
    "    sequenceFile = sequence * \".fasta\"\n",
    "\n",
    "    URL = \"https://www.uniprot.org/uniprotkb/\" * sequenceFile\n",
    "\n",
    "    query = HTTP.get(URL)\n",
    "    fastaString=String(query.body)\n",
    "\n",
    "    open(sequenceFile,\"w\") do f\n",
    "        write(f,fastaString)\n",
    "    end\n",
    "\n",
    "    FastaIO.readfasta(sequenceFile)[1][2]\n",
    "end"
   ]
  },
  {
   "attachments": {},
   "cell_type": "markdown",
   "metadata": {},
   "source": [
    "# Hamming distance"
   ]
  },
  {
   "cell_type": "code",
   "execution_count": null,
   "metadata": {},
   "outputs": [],
   "source": [
    "function hamming(x,y)\n",
    "    if length(x) != length(y)\n",
    "        println(\"ERROR: sequences should have equal lenghts!\")\n",
    "        return\n",
    "    else\n",
    "        d = 0\n",
    "        for i = 1:length(x)\n",
    "            if x[i] != y[i]\n",
    "                d = d + 1\n",
    "            end\n",
    "        end\n",
    "        return d\n",
    "    end\n",
    "end"
   ]
  },
  {
   "attachments": {},
   "cell_type": "markdown",
   "metadata": {},
   "source": [
    "# Levenshtein distance "
   ]
  },
  {
   "cell_type": "code",
   "execution_count": null,
   "metadata": {},
   "outputs": [],
   "source": [
    "function leven(x,y)\n",
    "    D = Dict()\n",
    "\n",
    "    function levenshtein(x,y)\n",
    "        isempty(x) && return length(y)\n",
    "        isempty(y) && return length(x)\n",
    "\n",
    "        haskey(D,(x,y)) && return D[(x,y)]\n",
    "        \n",
    "        D[(x,y)] = min(1 - (x[end] == y[end]) + levenshtein(x[1:end-1],y[1:end-1]), 1 + levenshtein(x[1:end-1],y), 1 + levenshtein(x,y[1:end-1]))\n",
    "    end\n",
    "\n",
    "    levenshtein(x,y)\n",
    "end"
   ]
  },
  {
   "attachments": {},
   "cell_type": "markdown",
   "metadata": {},
   "source": [
    "# Scoring scheme"
   ]
  },
  {
   "cell_type": "code",
   "execution_count": 22,
   "metadata": {},
   "outputs": [
    {
     "data": {
      "text/plain": [
       "blosum (generic function with 1 method)"
      ]
     },
     "execution_count": 22,
     "metadata": {},
     "output_type": "execute_result"
    }
   ],
   "source": [
    "# Entries for the BLOSUM50 matrix at a scale of ln(2)/3.0.\n",
    "# https://www.ncbi.nlm.nih.gov/IEB/ToolBox/C_DOC/lxr/source/data/BLOSUM50\n",
    "#  A  R  N  D  C  Q  E  G  H  I  L  K  M  F  P  S  T  W  Y  V  B  J  Z  X  *\n",
    "\n",
    "blosum50 = [\n",
    "[  5 -2 -1 -2 -1 -1 -1  0 -2 -1 -2 -1 -1 -3 -1  1  0 -3 -2  0 -2 -2 -1 -1 -5 ]\n",
    "[ -2  7 -1 -2 -4  1  0 -3  0 -4 -3  3 -2 -3 -3 -1 -1 -3 -1 -3 -1 -3  0 -1 -5 ]\n",
    "[ -1 -1  7  2 -2  0  0  0  1 -3 -4  0 -2 -4 -2  1  0 -4 -2 -3  5 -4  0 -1 -5 ]\n",
    "[ -2 -2  2  8 -4  0  2 -1 -1 -4 -4 -1 -4 -5 -1  0 -1 -5 -3 -4  6 -4  1 -1 -5 ]\n",
    "[ -1 -4 -2 -4 13 -3 -3 -3 -3 -2 -2 -3 -2 -2 -4 -1 -1 -5 -3 -1 -3 -2 -3 -1 -5 ]\n",
    "[ -1  1  0  0 -3  7  2 -2  1 -3 -2  2  0 -4 -1  0 -1 -1 -1 -3  0 -3  4 -1 -5 ]\n",
    "[ -1  0  0  2 -3  2  6 -3  0 -4 -3  1 -2 -3 -1 -1 -1 -3 -2 -3  1 -3  5 -1 -5 ]\n",
    "[  0 -3  0 -1 -3 -2 -3  8 -2 -4 -4 -2 -3 -4 -2  0 -2 -3 -3 -4 -1 -4 -2 -1 -5 ]\n",
    "[ -2  0  1 -1 -3  1  0 -2 10 -4 -3  0 -1 -1 -2 -1 -2 -3  2 -4  0 -3  0 -1 -5 ]\n",
    "[ -1 -4 -3 -4 -2 -3 -4 -4 -4  5  2 -3  2  0 -3 -3 -1 -3 -1  4 -4  4 -3 -1 -5 ]\n",
    "[ -2 -3 -4 -4 -2 -2 -3 -4 -3  2  5 -3  3  1 -4 -3 -1 -2 -1  1 -4  4 -3 -1 -5 ]\n",
    "[ -1  3  0 -1 -3  2  1 -2  0 -3 -3  6 -2 -4 -1  0 -1 -3 -2 -3  0 -3  1 -1 -5 ]\n",
    "[ -1 -2 -2 -4 -2  0 -2 -3 -1  2  3 -2  7  0 -3 -2 -1 -1  0  1 -3  2 -1 -1 -5 ]\n",
    "[ -3 -3 -4 -5 -2 -4 -3 -4 -1  0  1 -4  0  8 -4 -3 -2  1  4 -1 -4  1 -4 -1 -5 ]\n",
    "[ -1 -3 -2 -1 -4 -1 -1 -2 -2 -3 -4 -1 -3 -4 10 -1 -1 -4 -3 -3 -2 -3 -1 -1 -5 ]\n",
    "[  1 -1  1  0 -1  0 -1  0 -1 -3 -3  0 -2 -3 -1  5  2 -4 -2 -2  0 -3  0 -1 -5 ]\n",
    "[  0 -1  0 -1 -1 -1 -1 -2 -2 -1 -1 -1 -1 -2 -1  2  5 -3 -2  0  0 -1 -1 -1 -5 ]\n",
    "[ -3 -3 -4 -5 -5 -1 -3 -3 -3 -3 -2 -3 -1  1 -4 -4 -3 15  2 -3 -5 -2 -2 -1 -5 ]\n",
    "[ -2 -1 -2 -3 -3 -1 -2 -3  2 -1 -1 -2  0  4 -3 -2 -2  2  8 -1 -3 -1 -2 -1 -5 ]\n",
    "[  0 -3 -3 -4 -1 -3 -3 -4 -4  4  1 -3  1 -1 -3 -2  0 -3 -1  5 -3  2 -3 -1 -5 ]\n",
    "[ -2 -1  5  6 -3  0  1 -1  0 -4 -4  0 -3 -4 -2  0  0 -5 -3 -3  6 -4  1 -1 -5 ]\n",
    "[ -2 -3 -4 -4 -2 -3 -3 -4 -3  4  4 -3  2  1 -3 -3 -1 -2 -1  2 -4  4 -3 -1 -5 ]\n",
    "[ -1  0  0  1 -3  4  5 -2  0 -3 -3  1 -1 -4 -1  0 -1 -2 -2 -3  1 -3  5 -1 -5 ]\n",
    "[ -1 -1 -1 -1 -1 -1 -1 -1 -1 -1 -1 -1 -1 -1 -1 -1 -1 -1 -1 -1 -1 -1 -1 -1 -5 ]\n",
    "[ -5 -5 -5 -5 -5 -5 -5 -5 -5 -5 -5 -5 -5 -5 -5 -5 -5 -5 -5 -5 -5 -5 -5 -5  1 ]\n",
    "]\n",
    "\n",
    "aal = [\"A\" \"R\" \"N\" \"D\" \"C\" \"Q\" \"E\" \"G\" \"H\" \"I\" \"L\" \"K\" \"M\" \"F\" \"P\" \"S\" \"T\" \"W\" \"Y\" \"V\" \"B\" \"J\" \"Z\" \"X\" \"*\"]\n",
    "aa = Dict(aal[k] => k for k in 1:length(aal))\n",
    "\n",
    "function blosum(x,y)\n",
    "    blosum50[aa[string(x)],aa[string(y)]]\n",
    "end"
   ]
  },
  {
   "attachments": {},
   "cell_type": "markdown",
   "metadata": {},
   "source": [
    "# Alignment\n",
    "## 1. Global, simple (Levenshtein)\n",
    "Global, simple alignment between $X=(x_1,\\dots,x_n)$ and $Y=(y_1,\\dots,y_m)$.\n",
    "- Initialization: $L(0,0)=0,\\ L(i,0)=i,\\ L(0,j)=j\\ \\forall\\ i,j$\n",
    "\n",
    "- Recursion: $L(i,j)=\\min{\\begin{cases}1 - \\delta(x_i,y_j) + L(i-1,j-1) & \\text{Substitution}\\\\1+L(i-1,j) & \\text{Deletion (in X)}\\\\1+L(i,j-1) & \\text{Insertion (in Y)}\\end{cases}}$ for $\\begin{cases}0\\leq i \\leq n \\\\ 0\\leq j \\leq m\\end{cases}$\n",
    "\n",
    "- Termination: $L(n,m)$ optimal score"
   ]
  },
  {
   "cell_type": "code",
   "execution_count": 16,
   "metadata": {},
   "outputs": [
    {
     "data": {
      "text/plain": [
       "traceback (generic function with 1 method)"
      ]
     },
     "execution_count": 16,
     "metadata": {},
     "output_type": "execute_result"
    }
   ],
   "source": [
    "function simpleGlobalAlignment(x,y)\n",
    "    \n",
    "    L = OffsetArray(zeros(length(x) + 1, length(y) + 1), 0:length(x), 0:length(y)) # \"Score\" matrix\n",
    "    B = OffsetArray(zeros(length(x) + 1, length(y) + 1), 0:length(x), 0:length(y)) # \"Traceback\" matrix\n",
    "\n",
    "    for i in eachindex(x)\n",
    "        L[i,0] = i \n",
    "        B[i,0] = 2 # gap on top sequence (deletion)\n",
    "        for j in eachindex(y)\n",
    "            L[0,j] = j\n",
    "            B[0,j] = 3 # gap on left sequence (insertion)\n",
    "            L[i,j], B[i,j] = findmin([1 - (x[i] == y[j]) + L[i-1,j-1], 1 + L[i-1,j], 1 + L[i,j-1]]) # depending on the min position: for example, if it is in 1st, then return a 1, so a \"1\" means a match, otherwise \"2\" and \"3\" mean gap on top/left sequence respectively\n",
    "        end\n",
    "    end\n",
    "    return L, B, traceback.(B)\n",
    "end\n",
    "\n",
    "function traceback(x)\n",
    "    if     x == 1 return \"↖\" #substitution\n",
    "    elseif x == 2 return \"↑\" #deletion\n",
    "    elseif x == 3 return \"←\" #insertion\n",
    "    elseif x == 4 return \" \"\n",
    "    end\n",
    "end"
   ]
  },
  {
   "attachments": {},
   "cell_type": "markdown",
   "metadata": {},
   "source": [
    "## 2. Global, scoring scheme & linear gap penalties\n",
    "---\n",
    "### Scoring scheme\n",
    "#### Substitution matrix\n",
    "$$S(X,Y)=\\sum_{i=1}^N\\log{\\frac{p_{x_iy_i}}{q_{x_i}q_{y_i}}}=\\sum_{i=1}^Ns(x_i,y_i)$$\n",
    "#### Gap score\n",
    "$$\\begin{cases}\\gamma(g)=-dg\\\\\\gamma(g)=-d-e(g-1) & e < d\\end{cases}$$\n",
    "---\n",
    "Global, scoring scheme & linear gap penalties alignment between $X=(x_1,\\dots,x_n)$ and $Y=(y_1,\\dots,y_m)$.\n",
    "- Initialization: $F(0,0)=0,\\ F(i,0)=-id,\\ F(0,j)=-jd\\ \\forall\\ i,j$\n",
    "\n",
    "- Recursion: $F(i,j)=\\max{\\begin{cases}L(i-1,j-1) + s(x_i,y_j)& \\text{Substitution}\\\\L(i-1,j) - d & \\text{Deletion (in X)}\\\\L(i,j-1) - d & \\text{Insertion (in Y)}\\end{cases}}$ for $\\begin{cases}0\\leq i \\leq n \\\\ 0\\leq j \\leq m\\end{cases}$\n",
    "\n",
    "- Termination: $F(n,m)$ optimal score\n",
    "\n",
    "Score $s(x_i,y_j)$ is taken from [BLOSUM50](https://www.ncbi.nlm.nih.gov/IEB/ToolBox/C_DOC/lxr/source/data/BLOSUM50)"
   ]
  },
  {
   "cell_type": "code",
   "execution_count": 24,
   "metadata": {},
   "outputs": [
    {
     "data": {
      "text/plain": [
       "GlobalAlignment1 (generic function with 1 method)"
      ]
     },
     "execution_count": 24,
     "metadata": {},
     "output_type": "execute_result"
    }
   ],
   "source": [
    "function GlobalAlignment1(x,y)\n",
    "    \n",
    "    d = 8 # linear gap penalty\n",
    "    F = OffsetArray(zeros(length(x) + 1, length(y) + 1), 0:length(x), 0:length(y)) # \"Score\" matrix\n",
    "    B = OffsetArray(zeros(length(x) + 1, length(y) + 1), 0:length(x), 0:length(y)) # \"Traceback\" matrix\n",
    "\n",
    "    for i in eachindex(x)\n",
    "        F[i,0] = - d * i\n",
    "        B[i,0] = 2 # gap on top sequence (deletion)\n",
    "        for j in eachindex(y)\n",
    "            F[0,j] = - d * j\n",
    "            B[0,j] = 3 # gap on left sequence (insertion)\n",
    "            F[i,j], B[i,j] = findmax([F[i,j] + blosum(x[i],y[j]), F[i-1,j] - d, F[i,j-1] - d]) # depending on the min position: for example, if it is in 1st, then return a 1, so a \"1\" means a match, otherwise \"2\" and \"3\" mean gap on top/left sequence respectively\n",
    "        end\n",
    "    end\n",
    "    return F, B, traceback.(B)\n",
    "end"
   ]
  },
  {
   "attachments": {},
   "cell_type": "markdown",
   "metadata": {},
   "source": [
    "## 3. Local, scoring scheme & linear gap penalties\n",
    "Local, scoring scheme & linear gap penalties alignment between $X=(x_1,\\dots,x_n)$ and $Y=(y_1,\\dots,y_m)$.\n",
    "- Initialization: $F(0,0)=0,\\ F(i,0)=0,\\ F(0,j)=0\\ \\forall\\ i,j$\n",
    "\n",
    "- Recursion: $F(i,j)=\\max{\\begin{cases}L(i-1,j-1) + s(x_i,y_j)& \\text{Substitution}\\\\L(i-1,j) - d & \\text{Deletion (in X)}\\\\L(i,j-1) - d & \\text{Insertion (in Y)}\\\\ 0 & \\text{start new local alignment}\\end{cases}}$ for $\\begin{cases}0\\leq i \\leq n \\\\ 0\\leq j \\leq m\\end{cases}$\n",
    "\n",
    "- Termination: $\\max_{n,m}\\{F\\}$ optimal score ($F$ is the score matrix)\n",
    "\n",
    "Score $s(x_i,y_j)$ is taken from [BLOSUM50](https://www.ncbi.nlm.nih.gov/IEB/ToolBox/C_DOC/lxr/source/data/BLOSUM50)"
   ]
  },
  {
   "cell_type": "code",
   "execution_count": 36,
   "metadata": {},
   "outputs": [
    {
     "data": {
      "text/plain": [
       "LocalAlignment1 (generic function with 1 method)"
      ]
     },
     "execution_count": 36,
     "metadata": {},
     "output_type": "execute_result"
    }
   ],
   "source": [
    "function LocalAlignment1(x,y)\n",
    "    \n",
    "    d = 8 # linear gap penalty\n",
    "    F = OffsetArray(zeros(length(x) + 1, length(y) + 1), 0:length(x), 0:length(y)) # \"Score\" matrix\n",
    "    B = OffsetArray(zeros(length(x) + 1, length(y) + 1), 0:length(x), 0:length(y)) # \"Traceback\" matrix\n",
    "\n",
    "    for i in eachindex(x)\n",
    "        F[i,0] = 0\n",
    "        B[i,0] = 2 # gap on top sequence (deletion)\n",
    "        for j in eachindex(y)\n",
    "            F[0,j] = 0\n",
    "            B[0,j] = 3 # gap on left sequence (insertion)\n",
    "            F[i,j], B[i,j] = findmax([F[i,j] + blosum(x[i],y[j]), F[i-1,j] - d, F[i,j-1] - d, 0]) # depending on the min position: for example, if it is in 1st, then return a 1, so a \"1\" means a match, otherwise \"2\" and \"3\" mean gap on top/left sequence respectively\n",
    "        end\n",
    "    end\n",
    "    return F, B, traceback.(B)\n",
    "end"
   ]
  },
  {
   "attachments": {},
   "cell_type": "markdown",
   "metadata": {},
   "source": [
    "## 4. Overlap, scoring scheme & linear gap penalties\n",
    "Overlap, scoring scheme & linear gap penalties alignment between $X=(x_1,\\dots,x_n)$ and $Y=(y_1,\\dots,y_m)$.\n",
    "- Initialization: $F(0,0)=0,\\ F(i,0)=0,\\ F(0,j)=0\\ \\forall\\ i,j$\n",
    "\n",
    "- Recursion: $F(i,j)=\\max{\\begin{cases}L(i-1,j-1) + s(x_i,y_j)& \\text{Substitution}\\\\L(i-1,j) - d & \\text{Deletion (in X)}\\\\L(i,j-1) - d & \\text{Insertion (in Y)}\\end{cases}}$ for $\\begin{cases}0\\leq i \\leq n \\\\ 0\\leq j \\leq m\\end{cases}$\n",
    "\n",
    "- Termination: $F(n,m)$ optimal score ($F$ is the score matrix)\n",
    "\n",
    "Score $s(x_i,y_j)$ is taken from [BLOSUM50](https://www.ncbi.nlm.nih.gov/IEB/ToolBox/C_DOC/lxr/source/data/BLOSUM50)"
   ]
  },
  {
   "cell_type": "code",
   "execution_count": 37,
   "metadata": {},
   "outputs": [
    {
     "data": {
      "text/plain": [
       "OverlapAlignment1 (generic function with 1 method)"
      ]
     },
     "execution_count": 37,
     "metadata": {},
     "output_type": "execute_result"
    }
   ],
   "source": [
    "function OverlapAlignment1(x,y)\n",
    "    \n",
    "    d = 8 # linear gap penalty\n",
    "    F = OffsetArray(zeros(length(x) + 1, length(y) + 1), 0:length(x), 0:length(y)) # \"Score\" matrix\n",
    "    B = OffsetArray(zeros(length(x) + 1, length(y) + 1), 0:length(x), 0:length(y)) # \"Traceback\" matrix\n",
    "\n",
    "    for i in eachindex(x)\n",
    "        F[i,0] = 0\n",
    "        B[i,0] = 2 # gap on top sequence (deletion)\n",
    "        for j in eachindex(y)\n",
    "            F[0,j] = 0\n",
    "            B[0,j] = 3 # gap on left sequence (insertion)\n",
    "            F[i,j], B[i,j] = findmax([F[i,j] + blosum(x[i],y[j]), F[i-1,j] - d, F[i,j-1] - d]) # depending on the min position: for example, if it is in 1st, then return a 1, so a \"1\" means a match, otherwise \"2\" and \"3\" mean gap on top/left sequence respectively\n",
    "        end\n",
    "    end\n",
    "    return F, B, traceback.(B)\n",
    "end"
   ]
  },
  {
   "attachments": {},
   "cell_type": "markdown",
   "metadata": {},
   "source": [
    "# Alignment (full)"
   ]
  },
  {
   "cell_type": "code",
   "execution_count": 51,
   "metadata": {},
   "outputs": [
    {
     "data": {
      "text/plain": [
       "simplecost (generic function with 1 method)"
      ]
     },
     "execution_count": 51,
     "metadata": {},
     "output_type": "execute_result"
    }
   ],
   "source": [
    "\"\"\"\n",
    "Find best alignment using given method\n",
    "\n",
    "F,B=alignment(x,y;method)\n",
    "\n",
    "F: matrix of scores between x[1:i] and y[1:j] \n",
    "B: matrix of traceback pointers: 1 for deletion, 2 for insertion, 3 for substitution\n",
    "\n",
    "method=\"simple\":  score is minus the number of edit moves\n",
    "method=\"global\":  global alignement\n",
    "method=\"local\":   local alignement\n",
    "method=\"overlap\": overlap alignement\n",
    "\n",
    "Using linear gap score.\n",
    "The Levenshtein distance between x and y is: -score(x,y;method=\"simple\").F[end,end]\n",
    "\"\"\"\n",
    "\n",
    "function score(x,y;method)\n",
    "    \n",
    "    if method == \"simple\"\n",
    "        d = 1\n",
    "        cost = simplecost\n",
    "    elseif method == \"global\" || method == \"local\" || method == \"overlap\"\n",
    "        d = 8 # linear gap penalty\n",
    "        cost = blosum\n",
    "    end\n",
    "\n",
    "    n, m = length(x), length(y)\n",
    "    \n",
    "    F = OffsetArray(zeros(n + 1, m + 1), 0:n, 0:m) # \"Score\" matrix\n",
    "    B = OffsetArray(zeros(n + 1, m + 1), 0:n, 0:m) # \"Traceback\" matrix\n",
    "    \n",
    "    if method == \"local\" || method == \"overlap\"\n",
    "        F[0:n,0] .= 0\n",
    "        F[0,0:m] .= 0\n",
    "    else\n",
    "        F[0:n,0] .= (0:n) * (-d)\n",
    "        F[0,0:m] .= (0:m) * (-d)\n",
    "    end\n",
    "    \n",
    "    B[0:n,0] .= 2 # gaps on top sequence (deletions)\n",
    "    B[0,0:m] .= 3 # gaps on left sequence (insertions)\n",
    "    \n",
    "    for i = 1:n\n",
    "        for j = 1:m\n",
    "            if method == \"local\"\n",
    "                F[i,j], B[i,j] = findmax([F[i-1,j-1] + cost(x[i],y[j]), F[i-1,j] - d , F[i,j-1] - d, 0]) # depending on the min position: for example, if it is in 1st, then return a 1, so a \"1\" means a match, otherwise \"2\" and \"3\" mean gap on top/left sequence respectively, \"4\" means starting a new local alignment\n",
    "            else\n",
    "                F[i,j], B[i,j] = findmax([F[i-1,j-1] + cost(x[i],y[j]), F[i-1,j] - d , F[i,j-1] - d]) # depending on the min position: for example, if it is in 1st, then return a 1, so a \"1\" means a match, otherwise \"2\" and \"3\" mean gap on top/left sequence respectively\n",
    "            end\n",
    "        end\n",
    "    end\n",
    "    \n",
    "    return F, B, traceback.(B)\n",
    "    \n",
    "end\n",
    "\n",
    "function simplecost(a,b)\n",
    "    -(a!=b) \n",
    " end"
   ]
  }
 ],
 "metadata": {
  "kernelspec": {
   "display_name": "Julia 1.8.2",
   "language": "julia",
   "name": "julia-1.8"
  },
  "language_info": {
   "file_extension": ".jl",
   "mimetype": "application/julia",
   "name": "julia",
   "version": "1.8.2"
  },
  "orig_nbformat": 4,
  "vscode": {
   "interpreter": {
    "hash": "aee8b7b246df8f9039afb4144a1f6fd8d2ca17a180786b69acc140d282b71a49"
   }
  }
 },
 "nbformat": 4,
 "nbformat_minor": 2
}

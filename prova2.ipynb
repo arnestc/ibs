{
 "cells": [
  {
   "attachments": {},
   "cell_type": "markdown",
   "metadata": {},
   "source": [
    "# 1. How to read real sequences from online database\n",
    "## 1.1. Useful libraries"
   ]
  },
  {
   "cell_type": "code",
   "execution_count": 1,
   "metadata": {},
   "outputs": [],
   "source": [
    "using FastaIO\n",
    "using OffsetArrays\n",
    "using PyPlot\n",
    "using DelimitedFiles\n",
    "using BenchmarkTools\n",
    "using StatsBase\n",
    "using LinearAlgebra\n",
    "using Printf\n",
    "using HTTP"
   ]
  },
  {
   "attachments": {},
   "cell_type": "markdown",
   "metadata": {},
   "source": [
    "## 1.2. Read sequences from online database"
   ]
  },
  {
   "cell_type": "code",
   "execution_count": 73,
   "metadata": {},
   "outputs": [
    {
     "data": {
      "text/plain": [
       "sequenceDownload (generic function with 1 method)"
      ]
     },
     "execution_count": 73,
     "metadata": {},
     "output_type": "execute_result"
    }
   ],
   "source": [
    "function sequenceDownload(sequence)\n",
    "\n",
    "    sequenceFile = sequence * \".fasta\"\n",
    "\n",
    "    URL = \"https://www.uniprot.org/uniprotkb/\" * sequenceFile\n",
    "\n",
    "    query = HTTP.get(URL)\n",
    "    fastaString=String(query.body)\n",
    "\n",
    "    open(sequenceFile,\"w\") do f\n",
    "        write(f,fastaString)\n",
    "    end\n",
    "\n",
    "    FastaIO.readfasta(sequenceFile)[1][2]\n",
    "end"
   ]
  },
  {
   "attachments": {},
   "cell_type": "markdown",
   "metadata": {},
   "source": [
    "## 1.3. An example: loading some real biological sequences"
   ]
  },
  {
   "cell_type": "code",
   "execution_count": 85,
   "metadata": {},
   "outputs": [
    {
     "data": {
      "text/plain": [
       "\"MVLSPADKTNVKAAWGKVGAHAGEYGAEALERMFLSFPTTKTYFPHFDLSHGSAQVKGHGKKVADALTNAVAHVDDMPNALSALSDLHAHKLRVDPVNFKLLSHCLLVTLAAHLPAEFTPAVHASLDKFLASVSTVLTSKYR\""
      ]
     },
     "execution_count": 85,
     "metadata": {},
     "output_type": "execute_result"
    }
   ],
   "source": [
    "HBB_Human = sequenceDownload(\"P68871\")\n",
    "HBA_Bonobo = sequenceDownload(\"P69906\")\n",
    "HBA_Chimp = sequenceDownload(\"P69907\")"
   ]
  },
  {
   "attachments": {},
   "cell_type": "markdown",
   "metadata": {},
   "source": [
    "# 2. Distances between two sequences\n",
    "## 2.1 Hamming distance\n",
    "The [Hamming distance](https://en.wikipedia.org/wiki/Hamming_distance) between two sequences $X=(x_1,\\dots,x_n)$ and $Y=(y_1,\\dots,y_m)$ is computed as the minimum number of substitutions needed to transform the second sequence into the first one. This type of distance can be computed only between two same length sequences. For example:\n",
    "\n",
    "- X = `\"GGGAATTTCC\"`\n",
    "- Y = `\"GGCAATAACC\"`\n",
    "-        \"vvxvvvxxvv\"\n",
    "\n",
    "(\"v\" for a *match* and \"x\" for a *substitution*) then the Hamming distance here is $d_H(X,Y)=3$."
   ]
  },
  {
   "cell_type": "code",
   "execution_count": 102,
   "metadata": {},
   "outputs": [
    {
     "data": {
      "text/plain": [
       "hamming (generic function with 1 method)"
      ]
     },
     "execution_count": 102,
     "metadata": {},
     "output_type": "execute_result"
    }
   ],
   "source": [
    "function hamming(x,y)\n",
    "    if length(x) != length(y)\n",
    "        println(\"ERROR: sequences should have equal lenghts!\")\n",
    "    else\n",
    "        return sum(x[i] != y[i] for i in eachindex(x))\n",
    "    end\n",
    "end"
   ]
  },
  {
   "cell_type": "code",
   "execution_count": 106,
   "metadata": {},
   "outputs": [
    {
     "data": {
      "text/plain": [
       "3"
      ]
     },
     "execution_count": 106,
     "metadata": {},
     "output_type": "execute_result"
    }
   ],
   "source": [
    "# From previous exmple:\n",
    "X, Y = \"GGGAATTTCC\", \"GGCAATAACC\"\n",
    "hamming(X,Y)"
   ]
  },
  {
   "attachments": {},
   "cell_type": "markdown",
   "metadata": {},
   "source": [
    "## 2.2 Levenshtein distance \n",
    "The [Levenshtein distance](https://en.wikipedia.org/wiki/Levenshtein_distance) between two sequences $X=(x_1,\\dots,x_n)$ and $Y=(y_1,\\dots,y_m)$ is computed as the minimum number of substitutions, insertions or deletions (reflecting the three possible biological operations, namely *mutations*) needed to transform the second sequence into the first one. This type of distance can be computed between two any length sequences. For example:\n",
    "\n",
    "- X_2 = `\"GG-AATTTCC\"`\n",
    "- Y_2 = `\"GGCAAT--AC\"`\n",
    "\n",
    "then the Levenshtein distance here is $d_L(X,Y)=4$."
   ]
  },
  {
   "cell_type": "code",
   "execution_count": 109,
   "metadata": {},
   "outputs": [
    {
     "data": {
      "text/plain": [
       "levenshtein (generic function with 1 method)"
      ]
     },
     "execution_count": 109,
     "metadata": {},
     "output_type": "execute_result"
    }
   ],
   "source": [
    "function levenshtein(x,y)\n",
    "    # Recursive approach: dynamic programming using a dictionary\n",
    "    D = Dict()\n",
    "\n",
    "    function lev(x,y)\n",
    "        isempty(x) && return length(y) # Delete all elements in 2nd sequence\n",
    "        isempty(y) && return length(x) # Insert all elements in 2nd sequence\n",
    "\n",
    "        haskey(D,(x,y)) && return D[(x,y)]\n",
    "        \n",
    "        D[(x,y)] = min(1 - (x[end] == y[end]) + lev(x[1:end-1],y[1:end-1]), 1 + lev(x[1:end-1],y), 1 + lev(x,y[1:end-1]))\n",
    "    end\n",
    "\n",
    "    lev(x,y)\n",
    "end"
   ]
  },
  {
   "cell_type": "code",
   "execution_count": 111,
   "metadata": {},
   "outputs": [
    {
     "data": {
      "text/plain": [
       "4"
      ]
     },
     "execution_count": 111,
     "metadata": {},
     "output_type": "execute_result"
    }
   ],
   "source": [
    "# From previous exmple:\n",
    "X2, Y2 = \"GGAATTTCC\", \"GGCAATAC\"\n",
    "levenshtein(X2,Y2)"
   ]
  },
  {
   "attachments": {},
   "cell_type": "markdown",
   "metadata": {},
   "source": [
    "## 2.3 An example with loaded real biological sequences"
   ]
  },
  {
   "cell_type": "code",
   "execution_count": 114,
   "metadata": {},
   "outputs": [
    {
     "name": "stdout",
     "output_type": "stream",
     "text": [
      "(length(HBB_Human), length(HBA_Bonobo), length(HBA_Chimp)) = (147, 142, 142)\n",
      "ERROR: sequences should have equal lenghts!\n",
      "hamming(HBB_Human, HBA_Bonobo) = nothing\n",
      "hamming(HBA_Bonobo, HBA_Chimp) = 0\n",
      "levenshtein(HBB_Human, HBA_Bonobo) = 84\n",
      "levenshtein(HBA_Bonobo, HBA_Chimp) = 0\n",
      "levenshtein(HBB_Human, HBA_Chimp) = 84\n"
     ]
    }
   ],
   "source": [
    "@show length(HBB_Human), length(HBA_Bonobo), length(HBA_Chimp);\n",
    "@show hamming(HBB_Human, HBA_Bonobo);\n",
    "@show hamming(HBA_Bonobo, HBA_Chimp);\n",
    "@show levenshtein(HBB_Human, HBA_Bonobo);\n",
    "@show levenshtein(HBA_Bonobo, HBA_Chimp);\n",
    "@show levenshtein(HBB_Human, HBA_Chimp);"
   ]
  },
  {
   "attachments": {},
   "cell_type": "markdown",
   "metadata": {},
   "source": [
    "# 3. [Alignment algorithms](https://en.wikipedia.org/wiki/Needleman%E2%80%93Wunsch_algorithm#Scoring_systems)\n",
    "## 3.1. Global, simple (Levenshtein) alignment\n",
    "Global, simple alignment between $X=(x_1,\\dots,x_n)$ and $Y=(y_1,\\dots,y_m)$.\n",
    "- Initialization: $L(0,0)=0,\\ L(i,0)=i,\\ L(0,j)=j\\ \\forall\\ i,j$\n",
    "\n",
    "- Recursion: $L(i,j)=\\min{\\begin{cases}1 - \\delta(x_i,y_j) + L(i-1,j-1) & \\text{Substitution}\\\\1+L(i-1,j) & \\text{Deletion (in X)}\\\\1+L(i,j-1) & \\text{Insertion (in Y)}\\end{cases}}$ for $\\begin{cases}0\\leq i \\leq n \\\\ 0\\leq j \\leq m\\end{cases}$\n",
    "\n",
    "- Termination: $L(n,m)$ optimal score"
   ]
  },
  {
   "cell_type": "code",
   "execution_count": 70,
   "metadata": {},
   "outputs": [
    {
     "data": {
      "text/plain": [
       "simpleAlignment (generic function with 1 method)"
      ]
     },
     "execution_count": 70,
     "metadata": {},
     "output_type": "execute_result"
    }
   ],
   "source": [
    "function simpleAlignment(x,y)\n",
    "    \n",
    "    L = OffsetArray(zeros(length(x) + 1, length(y) + 1), 0:length(x), 0:length(y)) # Distances matrix\n",
    "    B = OffsetArray(zeros(length(x) + 1, length(y) + 1), 0:length(x), 0:length(y)) # Operations matrix: 1 -> substitution; 2 -> deletion; 3 -> insertion\n",
    "\n",
    "    for i in eachindex(x)\n",
    "        L[i,0] = i \n",
    "        B[i,0] = 2 # Gap on top sequence (deletion)\n",
    "        for j in eachindex(y)\n",
    "            L[0,j] = j\n",
    "            B[0,j] = 3 # Gap on left sequence (insertion)\n",
    "            L[i,j], B[i,j] = findmin([1 - (x[i] == y[j]) + L[i-1,j-1], 1 + L[i-1,j], 1 + L[i,j-1]]) # findmin(v=[A, B, C]) returns the minimum value and its \"position\" in vector v = [A, B, C]; \"1\" corresponds to substitution,  \"2\" corresponds to deletion,  \"3\" corresponds to insertion\n",
    "        end\n",
    "    end\n",
    "    return L, B\n",
    "end"
   ]
  },
  {
   "cell_type": "code",
   "execution_count": 123,
   "metadata": {},
   "outputs": [
    {
     "name": "stdout",
     "output_type": "stream",
     "text": [
      "(length(HBB_Human), length(HBA_Bonobo), length(HBA_Chimp)) = (147, 142, 142)\n",
      "ERROR: sequences should have equal lenghts!\n",
      "(hamming(HBB_Human, HBA_Bonobo), levenshtein(HBB_Human, HBA_Bonobo)) = (nothing, 84)\n",
      "(hamming(HBA_Bonobo, HBA_Chimp), levenshtein(HBA_Bonobo, HBA_Chimp)) = (0, 0)\n",
      "(((simpleAlignment(HBB_Human, HBA_Bonobo))[1])[end:end], levenshtein(HBB_Human, HBA_Bonobo)) = ([84.0], 84)\n",
      "(((simpleAlignment(HBB_Human, HBA_Chimp))[1])[end:end], levenshtein(HBB_Human, HBA_Chimp)) = ([84.0], 84)\n",
      "(((simpleAlignment(HBA_Bonobo, HBA_Chimp))[1])[end:end], levenshtein(HBA_Bonobo, HBA_Chimp)) = ([0.0], 0)\n"
     ]
    }
   ],
   "source": [
    "@show length(HBB_Human), length(HBA_Bonobo), length(HBA_Chimp);\n",
    "@show hamming(HBB_Human, HBA_Bonobo), levenshtein(HBB_Human, HBA_Bonobo);\n",
    "@show hamming(HBA_Bonobo, HBA_Chimp), levenshtein(HBA_Bonobo, HBA_Chimp);\n",
    "@show simpleAlignment(HBB_Human, HBA_Bonobo)[1][end:end], levenshtein(HBB_Human, HBA_Bonobo);\n",
    "@show simpleAlignment(HBB_Human, HBA_Chimp)[1][end:end], levenshtein(HBB_Human, HBA_Chimp);\n",
    "@show simpleAlignment(HBA_Bonobo, HBA_Chimp)[1][end:end], levenshtein(HBA_Bonobo, HBA_Chimp);"
   ]
  },
  {
   "attachments": {},
   "cell_type": "markdown",
   "metadata": {},
   "source": [
    "## 3.2. Scoring scheme\n",
    "### Substitution matrix\n",
    "$$S(X,Y)=\\sum_{i=1}^N\\log{\\frac{p_{x_iy_i}}{q_{x_i}q_{y_i}}}=\\sum_{i=1}^Ns(x_i,y_i)$$\n",
    "### Gap score\n",
    "$$\\begin{cases}\\gamma(g)=-dg\\\\\\gamma(g)=-d-e(g-1) & e < d\\end{cases}$$\n",
    "\n",
    "Score $s(x_i,y_j)$ is taken from [BLOSUM50](https://www.ncbi.nlm.nih.gov/IEB/ToolBox/C_DOC/lxr/source/data/BLOSUM50)."
   ]
  },
  {
   "cell_type": "code",
   "execution_count": 22,
   "metadata": {},
   "outputs": [
    {
     "data": {
      "text/plain": [
       "blosum (generic function with 1 method)"
      ]
     },
     "execution_count": 22,
     "metadata": {},
     "output_type": "execute_result"
    }
   ],
   "source": [
    "# Entries for the BLOSUM50 matrix at a scale of ln(2)/3.0.\n",
    "# https://www.ncbi.nlm.nih.gov/IEB/ToolBox/C_DOC/lxr/source/data/BLOSUM50\n",
    "#  A  R  N  D  C  Q  E  G  H  I  L  K  M  F  P  S  T  W  Y  V  B  J  Z  X  *\n",
    "\n",
    "blosum50 = [\n",
    "[  5 -2 -1 -2 -1 -1 -1  0 -2 -1 -2 -1 -1 -3 -1  1  0 -3 -2  0 -2 -2 -1 -1 -5 ]\n",
    "[ -2  7 -1 -2 -4  1  0 -3  0 -4 -3  3 -2 -3 -3 -1 -1 -3 -1 -3 -1 -3  0 -1 -5 ]\n",
    "[ -1 -1  7  2 -2  0  0  0  1 -3 -4  0 -2 -4 -2  1  0 -4 -2 -3  5 -4  0 -1 -5 ]\n",
    "[ -2 -2  2  8 -4  0  2 -1 -1 -4 -4 -1 -4 -5 -1  0 -1 -5 -3 -4  6 -4  1 -1 -5 ]\n",
    "[ -1 -4 -2 -4 13 -3 -3 -3 -3 -2 -2 -3 -2 -2 -4 -1 -1 -5 -3 -1 -3 -2 -3 -1 -5 ]\n",
    "[ -1  1  0  0 -3  7  2 -2  1 -3 -2  2  0 -4 -1  0 -1 -1 -1 -3  0 -3  4 -1 -5 ]\n",
    "[ -1  0  0  2 -3  2  6 -3  0 -4 -3  1 -2 -3 -1 -1 -1 -3 -2 -3  1 -3  5 -1 -5 ]\n",
    "[  0 -3  0 -1 -3 -2 -3  8 -2 -4 -4 -2 -3 -4 -2  0 -2 -3 -3 -4 -1 -4 -2 -1 -5 ]\n",
    "[ -2  0  1 -1 -3  1  0 -2 10 -4 -3  0 -1 -1 -2 -1 -2 -3  2 -4  0 -3  0 -1 -5 ]\n",
    "[ -1 -4 -3 -4 -2 -3 -4 -4 -4  5  2 -3  2  0 -3 -3 -1 -3 -1  4 -4  4 -3 -1 -5 ]\n",
    "[ -2 -3 -4 -4 -2 -2 -3 -4 -3  2  5 -3  3  1 -4 -3 -1 -2 -1  1 -4  4 -3 -1 -5 ]\n",
    "[ -1  3  0 -1 -3  2  1 -2  0 -3 -3  6 -2 -4 -1  0 -1 -3 -2 -3  0 -3  1 -1 -5 ]\n",
    "[ -1 -2 -2 -4 -2  0 -2 -3 -1  2  3 -2  7  0 -3 -2 -1 -1  0  1 -3  2 -1 -1 -5 ]\n",
    "[ -3 -3 -4 -5 -2 -4 -3 -4 -1  0  1 -4  0  8 -4 -3 -2  1  4 -1 -4  1 -4 -1 -5 ]\n",
    "[ -1 -3 -2 -1 -4 -1 -1 -2 -2 -3 -4 -1 -3 -4 10 -1 -1 -4 -3 -3 -2 -3 -1 -1 -5 ]\n",
    "[  1 -1  1  0 -1  0 -1  0 -1 -3 -3  0 -2 -3 -1  5  2 -4 -2 -2  0 -3  0 -1 -5 ]\n",
    "[  0 -1  0 -1 -1 -1 -1 -2 -2 -1 -1 -1 -1 -2 -1  2  5 -3 -2  0  0 -1 -1 -1 -5 ]\n",
    "[ -3 -3 -4 -5 -5 -1 -3 -3 -3 -3 -2 -3 -1  1 -4 -4 -3 15  2 -3 -5 -2 -2 -1 -5 ]\n",
    "[ -2 -1 -2 -3 -3 -1 -2 -3  2 -1 -1 -2  0  4 -3 -2 -2  2  8 -1 -3 -1 -2 -1 -5 ]\n",
    "[  0 -3 -3 -4 -1 -3 -3 -4 -4  4  1 -3  1 -1 -3 -2  0 -3 -1  5 -3  2 -3 -1 -5 ]\n",
    "[ -2 -1  5  6 -3  0  1 -1  0 -4 -4  0 -3 -4 -2  0  0 -5 -3 -3  6 -4  1 -1 -5 ]\n",
    "[ -2 -3 -4 -4 -2 -3 -3 -4 -3  4  4 -3  2  1 -3 -3 -1 -2 -1  2 -4  4 -3 -1 -5 ]\n",
    "[ -1  0  0  1 -3  4  5 -2  0 -3 -3  1 -1 -4 -1  0 -1 -2 -2 -3  1 -3  5 -1 -5 ]\n",
    "[ -1 -1 -1 -1 -1 -1 -1 -1 -1 -1 -1 -1 -1 -1 -1 -1 -1 -1 -1 -1 -1 -1 -1 -1 -5 ]\n",
    "[ -5 -5 -5 -5 -5 -5 -5 -5 -5 -5 -5 -5 -5 -5 -5 -5 -5 -5 -5 -5 -5 -5 -5 -5  1 ]\n",
    "]\n",
    "\n",
    "# aal = [\"A\" \"R\" \"N\" \"D\" \"C\" \"Q\" \"E\" \"G\" \"H\" \"I\" \"L\" \"K\" \"M\" \"F\" \"P\" \"S\" \"T\" \"W\" \"Y\" \"V\" \"B\" \"J\" \"Z\" \"X\" \"*\"]\n",
    "# aa = Dict(aal[k] => k for k in 1:length(aal))\n",
    "\n",
    "function blosum(x,y)\n",
    "    \n",
    "    aal = [\"A\" \"R\" \"N\" \"D\" \"C\" \"Q\" \"E\" \"G\" \"H\" \"I\" \"L\" \"K\" \"M\" \"F\" \"P\" \"S\" \"T\" \"W\" \"Y\" \"V\" \"B\" \"J\" \"Z\" \"X\" \"*\"]\n",
    "    aa = Dict(aal[k] => k for k in 1:length(aal))\n",
    "    \n",
    "    return blosum50[aa[string(x)],aa[string(y)]]\n",
    "end"
   ]
  },
  {
   "attachments": {},
   "cell_type": "markdown",
   "metadata": {},
   "source": [
    "## 3.3. Global, scoring scheme & linear gap penalties alignment\n",
    "Global, scoring scheme & linear gap penalties alignment between $X=(x_1,\\dots,x_n)$ and $Y=(y_1,\\dots,y_m)$.\n",
    "- Initialization: $F(0,0)=0,\\ F(i,0)=-id,\\ F(0,j)=-jd\\ \\forall\\ i,j$\n",
    "\n",
    "- Recursion: $F(i,j)=\\max{\\begin{cases}L(i-1,j-1) + s(x_i,y_j)& \\text{Substitution}\\\\L(i-1,j) - d & \\text{Deletion (in X)}\\\\L(i,j-1) - d & \\text{Insertion (in Y)}\\end{cases}}$ for $\\begin{cases}0\\leq i \\leq n \\\\ 0\\leq j \\leq m\\end{cases}$\n",
    "\n",
    "- Termination: $F(n,m)$ optimal score"
   ]
  },
  {
   "cell_type": "code",
   "execution_count": 69,
   "metadata": {},
   "outputs": [
    {
     "data": {
      "text/plain": [
       "globalAlignment (generic function with 1 method)"
      ]
     },
     "execution_count": 69,
     "metadata": {},
     "output_type": "execute_result"
    }
   ],
   "source": [
    "function globalAlignment(x,y)\n",
    "    \n",
    "    d = 8 # Linear gap penalty\n",
    "    F = OffsetArray(zeros(length(x) + 1, length(y) + 1), 0:length(x), 0:length(y)) # Scores matrix\n",
    "    B = OffsetArray(zeros(length(x) + 1, length(y) + 1), 0:length(x), 0:length(y)) # Operations matrix: 1 -> substitution; 2 -> deletion; 3 -> insertion\n",
    "\n",
    "    for i in eachindex(x)\n",
    "        F[i,0] = - d * i # Score (cost) for deleting all elements\n",
    "        B[i,0] = 2 # Gap on top sequence (deletion)\n",
    "        for j in eachindex(y)\n",
    "            F[0,j] = - d * j # Score (cost) for inserting all elements\n",
    "            B[0,j] = 3 # Gap on left sequence (insertion)\n",
    "            F[i,j], B[i,j] = findmax([F[i,j] + blosum(x[i],y[j]), F[i-1,j] - d, F[i,j-1] - d]) # findmin(v=[A, B, C]) returns the minimum value and its \"position\" in vector v = [A, B, C]; \"1\" corresponds to substitution, \"2\" corresponds to deletion, \"3\" corresponds to insertion\n",
    "        end\n",
    "    end\n",
    "    return F, B\n",
    "end"
   ]
  },
  {
   "cell_type": "code",
   "execution_count": 122,
   "metadata": {},
   "outputs": [
    {
     "name": "stdout",
     "output_type": "stream",
     "text": [
      "(length(HBB_Human), length(HBA_Bonobo), length(HBA_Chimp)) = (147, 142, 142)\n",
      "ERROR: sequences should have equal lenghts!\n",
      "(hamming(HBB_Human, HBA_Bonobo), levenshtein(HBB_Human, HBA_Bonobo)) = (nothing, 84)\n",
      "(hamming(HBA_Bonobo, HBA_Chimp), levenshtein(HBA_Bonobo, HBA_Chimp)) = (0, 0)\n",
      "(((globalAlignment(HBB_Human, HBA_Bonobo))[1])[end:end], levenshtein(HBB_Human, HBA_Bonobo)) = ([0.0], 84)\n",
      "(((globalAlignment(HBB_Human, HBA_Chimp))[1])[end:end], levenshtein(HBB_Human, HBA_Chimp)) = ([0.0], 84)\n",
      "(((globalAlignment(HBA_Bonobo, HBA_Chimp))[1])[end:end], levenshtein(HBA_Bonobo, HBA_Chimp)) = ([7.0], 0)\n"
     ]
    }
   ],
   "source": [
    "@show length(HBB_Human), length(HBA_Bonobo), length(HBA_Chimp);\n",
    "@show hamming(HBB_Human, HBA_Bonobo), levenshtein(HBB_Human, HBA_Bonobo);\n",
    "@show hamming(HBA_Bonobo, HBA_Chimp), levenshtein(HBA_Bonobo, HBA_Chimp);\n",
    "@show globalAlignment(HBB_Human, HBA_Bonobo)[1][end:end], levenshtein(HBB_Human, HBA_Bonobo);\n",
    "@show globalAlignment(HBB_Human, HBA_Chimp)[1][end:end], levenshtein(HBB_Human, HBA_Chimp);\n",
    "@show globalAlignment(HBA_Bonobo, HBA_Chimp)[1][end:end], levenshtein(HBA_Bonobo, HBA_Chimp);"
   ]
  },
  {
   "attachments": {},
   "cell_type": "markdown",
   "metadata": {},
   "source": [
    "## 3.4. Local, scoring scheme & linear gap penalties alignment\n",
    "Local, scoring scheme & linear gap penalties alignment between $X=(x_1,\\dots,x_n)$ and $Y=(y_1,\\dots,y_m)$.\n",
    "- Initialization: $F(0,0)=0,\\ F(i,0)=0,\\ F(0,j)=0\\ \\forall\\ i,j$\n",
    "\n",
    "- Recursion: $F(i,j)=\\max{\\begin{cases}L(i-1,j-1) + s(x_i,y_j)& \\text{Substitution}\\\\L(i-1,j) - d & \\text{Deletion (in X)}\\\\L(i,j-1) - d & \\text{Insertion (in Y)}\\\\ 0 & \\text{start new local alignment}\\end{cases}}$ for $\\begin{cases}0\\leq i \\leq n \\\\ 0\\leq j \\leq m\\end{cases}$\n",
    "\n",
    "- Termination: $\\max_{n,m}\\{F\\}$ optimal score ($F$ is the score matrix)"
   ]
  },
  {
   "cell_type": "code",
   "execution_count": 127,
   "metadata": {},
   "outputs": [
    {
     "data": {
      "text/plain": [
       "localAlignment (generic function with 1 method)"
      ]
     },
     "execution_count": 127,
     "metadata": {},
     "output_type": "execute_result"
    }
   ],
   "source": [
    "function localAlignment(x,y)\n",
    "    \n",
    "    d = 8 # Linear gap penalty\n",
    "    F = OffsetArray(zeros(length(x) + 1, length(y) + 1), 0:length(x), 0:length(y)) # Scores matrix\n",
    "    B = OffsetArray(zeros(length(x) + 1, length(y) + 1), 0:length(x), 0:length(y)) # Operations matrix: 1 -> substitution; 2 -> deletion; 3 -> insertion; 4 -> start new local alignment\n",
    "\n",
    "    for i in eachindex(x)\n",
    "        F[i,0] = 0 # Score (cost) for deleting all elements (0, since it will be started a new local alignment)\n",
    "        B[i,0] = 2 # Gap on top sequence (deletion)\n",
    "        for j in eachindex(y)\n",
    "            F[0,j] = 0 # Score (cost) for inserting all elements (0, since it will be started a new local alignment)\n",
    "            B[0,j] = 3 # Gap on left sequence (insertion)\n",
    "            F[i,j], B[i,j] = findmax([F[i,j] + blosum(x[i],y[j]), F[i-1,j] - d, F[i,j-1] - d, 0]) # findmin(v=[A, B, C, D]) returns the minimum value and its \"position\" in vector v = [A, B, C, D]; \"1\" corresponds to substitution, \"2\" corresponds to deletion, \"3\" corresponds to insertion, \"4\" corresponds to start a new local alignment\n",
    "        end\n",
    "    end\n",
    "    return F, B\n",
    "end"
   ]
  },
  {
   "attachments": {},
   "cell_type": "markdown",
   "metadata": {},
   "source": [
    "## 3.5. Overlap, scoring scheme & linear gap penalties\n",
    "Overlap, scoring scheme & linear gap penalties alignment between $X=(x_1,\\dots,x_n)$ and $Y=(y_1,\\dots,y_m)$.\n",
    "- Initialization: $F(0,0)=0,\\ F(i,0)=0,\\ F(0,j)=0\\ \\forall\\ i,j$\n",
    "\n",
    "- Recursion: $F(i,j)=\\max{\\begin{cases}L(i-1,j-1) + s(x_i,y_j)& \\text{Substitution}\\\\L(i-1,j) - d & \\text{Deletion (in X)}\\\\L(i,j-1) - d & \\text{Insertion (in Y)}\\end{cases}}$ for $\\begin{cases}0\\leq i \\leq n \\\\ 0\\leq j \\leq m\\end{cases}$\n",
    "\n",
    "- Termination: $F(n,m)$ optimal score ($F$ is the score matrix)"
   ]
  },
  {
   "cell_type": "code",
   "execution_count": 126,
   "metadata": {},
   "outputs": [
    {
     "data": {
      "text/plain": [
       "OverlapAlignment1 (generic function with 1 method)"
      ]
     },
     "execution_count": 126,
     "metadata": {},
     "output_type": "execute_result"
    }
   ],
   "source": [
    "function OverlapAlignment1(x,y)\n",
    "    \n",
    "    d = 8 # Linear gap penalty\n",
    "    F = OffsetArray(zeros(length(x) + 1, length(y) + 1), 0:length(x), 0:length(y)) # Scores matrix\n",
    "    B = OffsetArray(zeros(length(x) + 1, length(y) + 1), 0:length(x), 0:length(y)) # Operations matrix: 1 -> substitution; 2 -> deletion; 3 -> insertion\n",
    "\n",
    "    for i in eachindex(x)\n",
    "        F[i,0] = 0\n",
    "        B[i,0] = 2 # Gap on top sequence (deletion)\n",
    "        for j in eachindex(y)\n",
    "            F[0,j] = 0 \n",
    "            B[0,j] = 3 # Gap on left sequence (insertion)\n",
    "            F[i,j], B[i,j] = findmax([F[i,j] + blosum(x[i],y[j]), F[i-1,j] - d, F[i,j-1] - d]) # findmin(v=[A, B, C]) returns the minimum value and its \"position\" in vector v = [A, B, C]; \"1\" corresponds to substitution, \"2\" corresponds to deletion, \"3\" corresponds to insertion\n",
    "        end\n",
    "    end\n",
    "    return F, B\n",
    "end"
   ]
  },
  {
   "attachments": {},
   "cell_type": "markdown",
   "metadata": {},
   "source": [
    "# 3.6 Alignment (full)"
   ]
  },
  {
   "cell_type": "code",
   "execution_count": 128,
   "metadata": {},
   "outputs": [
    {
     "data": {
      "text/plain": [
       "simplecost (generic function with 1 method)"
      ]
     },
     "execution_count": 128,
     "metadata": {},
     "output_type": "execute_result"
    }
   ],
   "source": [
    "function score(x,y;method)\n",
    "    \n",
    "    if method == \"simple\"\n",
    "        d = 1 # Gap penalty = operation number (1 each time)\n",
    "        cost = simplecost\n",
    "    elseif method == \"global\" || method == \"local\" || method == \"overlap\"\n",
    "        d = 8 # Linear gap penalty\n",
    "        cost = blosum\n",
    "    end\n",
    "\n",
    "    n, m = length(x), length(y)\n",
    "    \n",
    "    F = OffsetArray(zeros(n + 1, m + 1), 0:n, 0:m) # Scores matrix\n",
    "    B = OffsetArray(zeros(n + 1, m + 1), 0:n, 0:m) # Operations matrix: 1 -> substitution; 2 -> deletion; 3 -> insertion\n",
    "    \n",
    "    if method == \"local\" || method == \"overlap\"\n",
    "        F[0:n,0] .= 0 # Score (cost) for deleting all elements (0, since it will be started a new local alignment)\n",
    "        F[0,0:m] .= 0 # Score (cost) for inserting all elements (0, since it will be started a new local alignment)\n",
    "    else\n",
    "        F[0:n,0] .= (0:n) * (-d) # Score (cost) for deleting all elements\n",
    "        F[0,0:m] .= (0:m) * (-d) # Score (cost) for inserting all elements\n",
    "    end\n",
    "    \n",
    "    B[0:n,0] .= 2 # Gaps on top sequence (deletions)\n",
    "    B[0,0:m] .= 3 # Gaps on left sequence (insertions)\n",
    "    \n",
    "    for i = 1:n\n",
    "        for j = 1:m\n",
    "            if method == \"local\"\n",
    "                F[i,j], B[i,j] = findmax([F[i-1,j-1] + cost(x[i],y[j]), F[i-1,j] - d , F[i,j-1] - d, 0]) # findmin(v=[A, B, C, D]) returns the minimum value and its \"position\" in vector v = [A, B, C, D]; \"1\" corresponds to substitution, \"2\" corresponds to deletion, \"3\" corresponds to insertion, \"4\" corresponds to start a new local alignment\n",
    "            else\n",
    "                F[i,j], B[i,j] = findmax([F[i-1,j-1] + cost(x[i],y[j]), F[i-1,j] - d , F[i,j-1] - d]) # findmin(v=[A, B, C]) returns the minimum value and its \"position\" in vector v = [A, B, C]; \"1\" corresponds to substitution, \"2\" corresponds to deletion, \"3\" corresponds to insertion\n",
    "            end\n",
    "        end\n",
    "    end\n",
    "    \n",
    "    return F, B\n",
    "    \n",
    "end\n",
    "\n",
    "function simplecost(a,b)\n",
    "    -(a!=b) \n",
    " end"
   ]
  },
  {
   "cell_type": "code",
   "execution_count": null,
   "metadata": {},
   "outputs": [],
   "source": [
    "function traceback(x)\n",
    "    if     x == 1 return \"↖\" #substitution\n",
    "    elseif x == 2 return \"↑\" #deletion\n",
    "    elseif x == 3 return \"←\" #insertion\n",
    "    elseif x == 4 return \" \"\n",
    "    end\n",
    "end"
   ]
  }
 ],
 "metadata": {
  "kernelspec": {
   "display_name": "Julia 1.8.2",
   "language": "julia",
   "name": "julia-1.8"
  },
  "language_info": {
   "file_extension": ".jl",
   "mimetype": "application/julia",
   "name": "julia",
   "version": "1.8.2"
  },
  "orig_nbformat": 4,
  "vscode": {
   "interpreter": {
    "hash": "aee8b7b246df8f9039afb4144a1f6fd8d2ca17a180786b69acc140d282b71a49"
   }
  }
 },
 "nbformat": 4,
 "nbformat_minor": 2
}

{
 "cells": [
  {
   "cell_type": "markdown",
   "metadata": {},
   "source": [
    "### Sequences Alignment\n",
    "\n",
    "#### 1st approach: alignment based on sequences distance\n",
    "\n",
    "- Hamming\n",
    "- Levenshtein\n",
    "\n",
    "---\n",
    "#### 2nd approach: recursive alignment using sequences distance"
   ]
  },
  {
   "cell_type": "code",
   "execution_count": 1,
   "metadata": {},
   "outputs": [
    {
     "data": {
      "text/plain": [
       "hammington"
      ]
     },
     "metadata": {},
     "output_type": "display_data"
    }
   ],
   "source": [
    "function hamming(x,y)\n",
    "    if length(x) != length(y)\n",
    "        println(\"ERROR: sequences should have equal lenghts!\")\n",
    "        return\n",
    "    else\n",
    "        d = 0\n",
    "        for i = 1:length(x)\n",
    "            if x[i] != y[i]\n",
    "                d = d + 1\n",
    "            end\n",
    "        end\n",
    "        return d\n",
    "    end\n",
    "end"
   ]
  },
  {
   "cell_type": "code",
   "execution_count": 2,
   "metadata": {},
   "outputs": [
    {
     "data": {
      "text/plain": [
       "4"
      ]
     },
     "metadata": {},
     "output_type": "display_data"
    }
   ],
   "source": [
    "x = \"wheeaaa\"; y = \"ghearpa\"\n",
    "d = hamming(x,y)"
   ]
  },
  {
   "cell_type": "markdown",
   "metadata": {},
   "source": [
    "How to read real sequences from online database"
   ]
  },
  {
   "cell_type": "code",
   "execution_count": 4,
   "metadata": {},
   "outputs": [],
   "source": [
    "using FastaIO\n",
    "#using Images\n",
    "using OffsetArrays\n",
    "using PyPlot\n",
    "using DelimitedFiles\n",
    "using BenchmarkTools\n",
    "using StatsBase\n",
    "using LinearAlgebra\n",
    "using Printf\n",
    "using HTTP"
   ]
  },
  {
   "cell_type": "code",
   "execution_count": 7,
   "metadata": {},
   "outputs": [
    {
     "data": {
      "text/plain": [
       "sequenceDownload (generic function with 1 method)"
      ]
     },
     "metadata": {},
     "output_type": "display_data"
    }
   ],
   "source": [
    "function sequenceDownload(sequence)\n",
    "\n",
    "    sequenceFile = sequence * \".fasta\"\n",
    "\n",
    "    URL = \"https://www.uniprot.org/uniprotkb/\" * sequenceFile\n",
    "\n",
    "    query = HTTP.get(URL)\n",
    "    fastaString=String(query.body)\n",
    "\n",
    "    open(sequenceFile,\"w\") do f\n",
    "        write(f,fastaString)\n",
    "    end\n",
    "\n",
    "    FastaIO.readfasta(sequenceFile)[1][2]\n",
    "end"
   ]
  },
  {
   "cell_type": "code",
   "execution_count": 8,
   "metadata": {},
   "outputs": [
    {
     "data": {
      "text/plain": [
       "\"MGALTESQAALVKSSWEEFNANIPKHTHRFFILVLEIAPAAKDLFSFLKGTSEVPQNNPELQAHAGKVFKLVYEAAIQLQVTGVVVTDATLKNLGSVHVSKGVADAHFPVVKEAILKTIKEVVGAKWSEELNSAWTIAYDELAIVIKKEMNDAA\""
      ]
     },
     "metadata": {},
     "output_type": "display_data"
    }
   ],
   "source": [
    "HBB_Human = sequenceDownload(\"P68871\")\n",
    "HBA_Bonobo = sequenceDownload(\"P69906\")\n",
    "HBA_Chimp = sequenceDownload(\"P69907\")\n",
    "HBA_Donkey = sequenceDownload(\"P01959\")\n",
    "LegHem = sequenceDownload(\"P02240\")"
   ]
  },
  {
   "cell_type": "code",
   "execution_count": 39,
   "metadata": {},
   "outputs": [
    {
     "data": {
      "text/plain": [
       "0"
      ]
     },
     "metadata": {},
     "output_type": "display_data"
    }
   ],
   "source": [
    "d = hamming(HBB_Human,HBA_Bonobo)"
   ]
  },
  {
   "cell_type": "code",
   "execution_count": null,
   "metadata": {},
   "outputs": [],
   "source": []
  }
 ],
 "metadata": {
  "kernelspec": {
   "display_name": "Julia 1.8.2",
   "language": "julia",
   "name": "julia-1.8"
  },
  "language_info": {
   "file_extension": ".jl",
   "mimetype": "application/julia",
   "name": "julia",
   "version": "1.8.2"
  },
  "orig_nbformat": 4
 },
 "nbformat": 4,
 "nbformat_minor": 2
}

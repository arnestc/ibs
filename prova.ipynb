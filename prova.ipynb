{
 "cells": [
  {
   "cell_type": "markdown",
   "metadata": {},
   "source": [
    "# Sequences Alignment\n",
    "\n",
    "## 1st approach: alignment based on sequences distance\n",
    "\n",
    "- Hamming\n",
    "- Levenshtein\n",
    "\n",
    "## 2nd approach: scoring scheme"
   ]
  },
  {
   "cell_type": "markdown",
   "metadata": {},
   "source": [
    "### Hamming distance"
   ]
  },
  {
   "cell_type": "code",
   "execution_count": 1,
   "metadata": {},
   "outputs": [
    {
     "data": {
      "text/plain": [
       "hamming (generic function with 1 method)"
      ]
     },
     "metadata": {},
     "output_type": "display_data"
    }
   ],
   "source": [
    "function hamming(x,y)\n",
    "    if length(x) != length(y)\n",
    "        println(\"ERROR: sequences should have equal lenghts!\")\n",
    "        return\n",
    "    else\n",
    "        d = 0\n",
    "        for i = 1:length(x)\n",
    "            if x[i] != y[i]\n",
    "                d = d + 1\n",
    "            end\n",
    "        end\n",
    "        return d\n",
    "    end\n",
    "end"
   ]
  },
  {
   "cell_type": "code",
   "execution_count": 2,
   "metadata": {},
   "outputs": [
    {
     "data": {
      "text/plain": [
       "4"
      ]
     },
     "metadata": {},
     "output_type": "display_data"
    }
   ],
   "source": [
    "x = \"wheeaaa\"; y = \"ghearpa\"\n",
    "d = hamming(x,y)"
   ]
  },
  {
   "cell_type": "markdown",
   "metadata": {},
   "source": [
    "### How to read real sequences from online database"
   ]
  },
  {
   "cell_type": "code",
   "execution_count": 3,
   "metadata": {},
   "outputs": [],
   "source": [
    "using FastaIO\n",
    "#using Images\n",
    "using OffsetArrays\n",
    "using PyPlot\n",
    "using DelimitedFiles\n",
    "using BenchmarkTools\n",
    "using StatsBase\n",
    "using LinearAlgebra\n",
    "using Printf\n",
    "using HTTP"
   ]
  },
  {
   "cell_type": "code",
   "execution_count": 4,
   "metadata": {},
   "outputs": [
    {
     "data": {
      "text/plain": [
       "sequenceDownload (generic function with 1 method)"
      ]
     },
     "metadata": {},
     "output_type": "display_data"
    }
   ],
   "source": [
    "function sequenceDownload(sequence)\n",
    "\n",
    "    sequenceFile = sequence * \".fasta\"\n",
    "\n",
    "    URL = \"https://www.uniprot.org/uniprotkb/\" * sequenceFile\n",
    "\n",
    "    query = HTTP.get(URL)\n",
    "    fastaString=String(query.body)\n",
    "\n",
    "    open(sequenceFile,\"w\") do f\n",
    "        write(f,fastaString)\n",
    "    end\n",
    "\n",
    "    FastaIO.readfasta(sequenceFile)[1][2]\n",
    "end"
   ]
  },
  {
   "cell_type": "code",
   "execution_count": 7,
   "metadata": {},
   "outputs": [
    {
     "data": {
      "text/plain": [
       "\"MGALTESQAALVKSSWEEFNANIPKHTHRFFILVLEIAPAAKDLFSFLKGTSEVPQNNPELQAHAGKVFKLVYEAAIQLQVTGVVVTDATLKNLGSVHVSKGVADAHFPVVKEAILKTIKEVVGAKWSEELNSAWTIAYDELAIVIKKEMNDAA\""
      ]
     },
     "metadata": {},
     "output_type": "display_data"
    }
   ],
   "source": [
    "HBB_Human = sequenceDownload(\"P68871\")\n",
    "HBA_Bonobo = sequenceDownload(\"P69906\")\n",
    "HBA_Chimp = sequenceDownload(\"P69907\")\n",
    "HBA_Donkey = sequenceDownload(\"P01959\")\n",
    "LegHem = sequenceDownload(\"P02240\")"
   ]
  },
  {
   "cell_type": "code",
   "execution_count": 8,
   "metadata": {},
   "outputs": [
    {
     "name": "stdout",
     "output_type": "stream",
     "text": [
      "ERROR: sequences should have equal lenghts!\n"
     ]
    }
   ],
   "source": [
    "d = hamming(HBB_Human,HBA_Bonobo)"
   ]
  },
  {
   "cell_type": "code",
   "execution_count": 9,
   "metadata": {},
   "outputs": [
    {
     "name": "stdout",
     "output_type": "stream",
     "text": [
      "length(HBB_Human) = 147\n",
      "length(HBA_Bonobo) = 142\n",
      "length(HBA_Chimp) = 142\n",
      "length(HBA_Donkey) = 142\n",
      "length(LegHem) = 154\n"
     ]
    },
    {
     "data": {
      "text/plain": [
       "154"
      ]
     },
     "metadata": {},
     "output_type": "display_data"
    }
   ],
   "source": [
    "@show length(HBB_Human)\n",
    "@show length(HBA_Bonobo)\n",
    "@show length(HBA_Chimp)\n",
    "@show length(HBA_Donkey)\n",
    "@show length(LegHem)"
   ]
  },
  {
   "cell_type": "code",
   "execution_count": 69,
   "metadata": {},
   "outputs": [
    {
     "name": "stdout",
     "output_type": "stream",
     "text": [
      "hamming(HBA_Bonobo, HBA_Chimp) = 0\n",
      "hamming(HBA_Bonobo, HBA_Donkey) = 20\n",
      "hamming(HBA_Chimp, HBA_Donkey) = 20\n"
     ]
    },
    {
     "data": {
      "text/plain": [
       "20"
      ]
     },
     "metadata": {},
     "output_type": "display_data"
    }
   ],
   "source": [
    "@show hamming(HBA_Bonobo,HBA_Chimp)\n",
    "@show hamming(HBA_Bonobo,HBA_Donkey)\n",
    "@show hamming(HBA_Chimp,HBA_Donkey)"
   ]
  },
  {
   "cell_type": "markdown",
   "metadata": {},
   "source": [
    "### Levenshtein distance: recursive\n",
    "\n",
    "$$L(i,j) = \\min{\\begin{cases}1-\\delta_{i,j}+L(i-1,j-1)\\\\1+L(i-1,j)\\\\1+L(i,j-1)\\end{cases}}$$"
   ]
  },
  {
   "cell_type": "code",
   "execution_count": 11,
   "metadata": {},
   "outputs": [
    {
     "data": {
      "text/plain": [
       "leven (generic function with 1 method)"
      ]
     },
     "metadata": {},
     "output_type": "display_data"
    }
   ],
   "source": [
    "function leven(x,y)\n",
    "    D = Dict()\n",
    "\n",
    "    function levenshtein(x,y)\n",
    "        isempty(x) && return length(y)\n",
    "        isempty(y) && return length(x)\n",
    "        haskey(D,(x,y)) && return D[(x,y)]\n",
    "        D[(x,y)] = min(1 - (x[end] == y[end]) + levenshtein(x[1:end-1],y[1:end-1]), 1 + levenshtein(x[1:end-1],y), 1 + levenshtein(x,y[1:end-1]))\n",
    "    end\n",
    "\n",
    "    levenshtein(x,y)\n",
    "end"
   ]
  },
  {
   "cell_type": "code",
   "execution_count": 72,
   "metadata": {},
   "outputs": [
    {
     "name": "stdout",
     "output_type": "stream",
     "text": [
      "leven(HBA_Bonobo, HBA_Chimp) = 0\n",
      "leven(HBA_Bonobo, HBA_Donkey) = 20\n",
      "leven(HBA_Chimp, HBA_Donkey) = 20\n"
     ]
    }
   ],
   "source": [
    "@show leven(HBA_Bonobo,HBA_Chimp);\n",
    "@show leven(HBA_Bonobo,HBA_Donkey);\n",
    "@show leven(HBA_Chimp,HBA_Donkey);"
   ]
  },
  {
   "cell_type": "code",
   "execution_count": 73,
   "metadata": {},
   "outputs": [
    {
     "name": "stdout",
     "output_type": "stream",
     "text": [
      "leven(HBB_Human, HBA_Bonobo) = 84\n",
      "leven(HBB_Human, HBA_Chimp) = "
     ]
    },
    {
     "name": "stdout",
     "output_type": "stream",
     "text": [
      "84\n"
     ]
    },
    {
     "name": "stdout",
     "output_type": "stream",
     "text": [
      "leven(HBB_Human, HBA_Donkey) = 84\n",
      "leven(HBB_Human, LegHem) = 119\n"
     ]
    }
   ],
   "source": [
    "@show leven(HBB_Human,HBA_Bonobo);\n",
    "@show leven(HBB_Human,HBA_Chimp);\n",
    "@show leven(HBB_Human,HBA_Donkey);\n",
    "@show leven(HBB_Human,LegHem);"
   ]
  }
 ],
 "metadata": {
  "kernelspec": {
   "display_name": "Julia 1.8.2",
   "language": "julia",
   "name": "julia-1.8"
  },
  "language_info": {
   "file_extension": ".jl",
   "mimetype": "application/julia",
   "name": "julia",
   "version": "1.8.2"
  },
  "orig_nbformat": 4
 },
 "nbformat": 4,
 "nbformat_minor": 2
}

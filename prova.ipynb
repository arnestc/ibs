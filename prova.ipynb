{
 "cells": [
  {
   "cell_type": "markdown",
   "metadata": {},
   "source": [
    "# Sequences Alignment\n",
    "\n",
    "## 1st approach: alignment based on sequences distance\n",
    "\n",
    "- Hamming\n",
    "- Levenshtein\n",
    "\n",
    "## 2nd approach: scoring scheme"
   ]
  },
  {
   "cell_type": "markdown",
   "metadata": {},
   "source": [
    "### Hamming distance"
   ]
  },
  {
   "cell_type": "code",
   "execution_count": 1,
   "metadata": {},
   "outputs": [
    {
     "data": {
      "text/plain": [
       "hamming (generic function with 1 method)"
      ]
     },
     "metadata": {},
     "output_type": "display_data"
    }
   ],
   "source": [
    "function hamming(x,y)\n",
    "    if length(x) != length(y)\n",
    "        println(\"ERROR: sequences should have equal lenghts!\")\n",
    "        return\n",
    "    else\n",
    "        d = 0\n",
    "        for i = 1:length(x)\n",
    "            if x[i] != y[i]\n",
    "                d = d + 1\n",
    "            end\n",
    "        end\n",
    "        return d\n",
    "    end\n",
    "end"
   ]
  },
  {
   "cell_type": "code",
   "execution_count": 2,
   "metadata": {},
   "outputs": [
    {
     "data": {
      "text/plain": [
       "4"
      ]
     },
     "metadata": {},
     "output_type": "display_data"
    }
   ],
   "source": [
    "x = \"wheeaaa\"; y = \"ghearpa\"\n",
    "d = hamming(x,y)"
   ]
  },
  {
   "cell_type": "markdown",
   "metadata": {},
   "source": [
    "### How to read real sequences from online database"
   ]
  },
  {
   "cell_type": "code",
   "execution_count": 2,
   "metadata": {},
   "outputs": [],
   "source": [
    "using FastaIO\n",
    "#using Images\n",
    "using OffsetArrays\n",
    "using PyPlot\n",
    "using DelimitedFiles\n",
    "using BenchmarkTools\n",
    "using StatsBase\n",
    "using LinearAlgebra\n",
    "using Printf\n",
    "using HTTP"
   ]
  },
  {
   "cell_type": "code",
   "execution_count": 3,
   "metadata": {},
   "outputs": [
    {
     "data": {
      "text/plain": [
       "sequenceDownload (generic function with 1 method)"
      ]
     },
     "metadata": {},
     "output_type": "display_data"
    }
   ],
   "source": [
    "function sequenceDownload(sequence)\n",
    "\n",
    "    sequenceFile = sequence * \".fasta\"\n",
    "\n",
    "    URL = \"https://www.uniprot.org/uniprotkb/\" * sequenceFile\n",
    "\n",
    "    query = HTTP.get(URL)\n",
    "    fastaString=String(query.body)\n",
    "\n",
    "    open(sequenceFile,\"w\") do f\n",
    "        write(f,fastaString)\n",
    "    end\n",
    "\n",
    "    FastaIO.readfasta(sequenceFile)[1][2]\n",
    "end"
   ]
  },
  {
   "cell_type": "code",
   "execution_count": 4,
   "metadata": {},
   "outputs": [
    {
     "data": {
      "text/plain": [
       "\"MGALTESQAALVKSSWEEFNANIPKHTHRFFILVLEIAPAAKDLFSFLKGTSEVPQNNPELQAHAGKVFKLVYEAAIQLQVTGVVVTDATLKNLGSVHVSKGVADAHFPVVKEAILKTIKEVVGAKWSEELNSAWTIAYDELAIVIKKEMNDAA\""
      ]
     },
     "metadata": {},
     "output_type": "display_data"
    }
   ],
   "source": [
    "HBB_Human = sequenceDownload(\"P68871\")\n",
    "HBA_Bonobo = sequenceDownload(\"P69906\")\n",
    "HBA_Chimp = sequenceDownload(\"P69907\")\n",
    "HBA_Donkey = sequenceDownload(\"P01959\")\n",
    "LegHem = sequenceDownload(\"P02240\")"
   ]
  },
  {
   "cell_type": "code",
   "execution_count": 8,
   "metadata": {},
   "outputs": [
    {
     "name": "stdout",
     "output_type": "stream",
     "text": [
      "ERROR: sequences should have equal lenghts!\n"
     ]
    }
   ],
   "source": [
    "d = hamming(HBB_Human,HBA_Bonobo)"
   ]
  },
  {
   "cell_type": "code",
   "execution_count": 9,
   "metadata": {},
   "outputs": [
    {
     "name": "stdout",
     "output_type": "stream",
     "text": [
      "length(HBB_Human) = 147\n",
      "length(HBA_Bonobo) = 142\n",
      "length(HBA_Chimp) = 142\n",
      "length(HBA_Donkey) = 142\n",
      "length(LegHem) = 154\n"
     ]
    },
    {
     "data": {
      "text/plain": [
       "154"
      ]
     },
     "metadata": {},
     "output_type": "display_data"
    }
   ],
   "source": [
    "@show length(HBB_Human)\n",
    "@show length(HBA_Bonobo)\n",
    "@show length(HBA_Chimp)\n",
    "@show length(HBA_Donkey)\n",
    "@show length(LegHem)"
   ]
  },
  {
   "cell_type": "code",
   "execution_count": 69,
   "metadata": {},
   "outputs": [
    {
     "name": "stdout",
     "output_type": "stream",
     "text": [
      "hamming(HBA_Bonobo, HBA_Chimp) = 0\n",
      "hamming(HBA_Bonobo, HBA_Donkey) = 20\n",
      "hamming(HBA_Chimp, HBA_Donkey) = 20\n"
     ]
    },
    {
     "data": {
      "text/plain": [
       "20"
      ]
     },
     "metadata": {},
     "output_type": "display_data"
    }
   ],
   "source": [
    "@show hamming(HBA_Bonobo,HBA_Chimp)\n",
    "@show hamming(HBA_Bonobo,HBA_Donkey)\n",
    "@show hamming(HBA_Chimp,HBA_Donkey)"
   ]
  },
  {
   "cell_type": "markdown",
   "metadata": {},
   "source": [
    "### Levenshtein distance: recursive\n",
    "\n",
    "$$L(i,j) = \\min{\\begin{cases}1-\\delta_{i,j}+L(i-1,j-1)\\\\1+L(i-1,j)\\\\1+L(i,j-1)\\end{cases}}$$"
   ]
  },
  {
   "cell_type": "code",
   "execution_count": 11,
   "metadata": {},
   "outputs": [
    {
     "data": {
      "text/plain": [
       "leven (generic function with 1 method)"
      ]
     },
     "metadata": {},
     "output_type": "display_data"
    }
   ],
   "source": [
    "function leven(x,y)\n",
    "    D = Dict()\n",
    "\n",
    "    function levenshtein(x,y)\n",
    "        isempty(x) && return length(y)\n",
    "        isempty(y) && return length(x)\n",
    "        haskey(D,(x,y)) && return D[(x,y)]\n",
    "        D[(x,y)] = min(1 - (x[end] == y[end]) + levenshtein(x[1:end-1],y[1:end-1]), 1 + levenshtein(x[1:end-1],y), 1 + levenshtein(x,y[1:end-1]))\n",
    "    end\n",
    "\n",
    "    levenshtein(x,y)\n",
    "end"
   ]
  },
  {
   "cell_type": "code",
   "execution_count": 72,
   "metadata": {},
   "outputs": [
    {
     "name": "stdout",
     "output_type": "stream",
     "text": [
      "leven(HBA_Bonobo, HBA_Chimp) = 0\n",
      "leven(HBA_Bonobo, HBA_Donkey) = 20\n",
      "leven(HBA_Chimp, HBA_Donkey) = 20\n"
     ]
    }
   ],
   "source": [
    "@show leven(HBA_Bonobo,HBA_Chimp);\n",
    "@show leven(HBA_Bonobo,HBA_Donkey);\n",
    "@show leven(HBA_Chimp,HBA_Donkey);"
   ]
  },
  {
   "cell_type": "code",
   "execution_count": 73,
   "metadata": {},
   "outputs": [
    {
     "name": "stdout",
     "output_type": "stream",
     "text": [
      "leven(HBB_Human, HBA_Bonobo) = 84\n",
      "leven(HBB_Human, HBA_Chimp) = "
     ]
    },
    {
     "name": "stdout",
     "output_type": "stream",
     "text": [
      "84\n"
     ]
    },
    {
     "name": "stdout",
     "output_type": "stream",
     "text": [
      "leven(HBB_Human, HBA_Donkey) = 84\n",
      "leven(HBB_Human, LegHem) = 119\n"
     ]
    }
   ],
   "source": [
    "@show leven(HBB_Human,HBA_Bonobo);\n",
    "@show leven(HBB_Human,HBA_Chimp);\n",
    "@show leven(HBB_Human,HBA_Donkey);\n",
    "@show leven(HBB_Human,LegHem);"
   ]
  },
  {
   "cell_type": "markdown",
   "metadata": {},
   "source": [
    "### Scoring scheme\n",
    "\n",
    "#### Substitution matrix\n",
    "$$S(X,Y)=\\sum_{i=1}^N\\log{\\frac{p_{x_iy_i}}{q_{x_i}q_{y_i}}}=\\sum_{i=1}^Ns(x_i,y_i)$$\n",
    "\n",
    "#### Gap score\n",
    "$$\\begin{cases}\\gamma(g)=-dg\\\\\\gamma(g)=-d-e(g-1) & e < d\\end{cases}$$\n"
   ]
  },
  {
   "cell_type": "markdown",
   "metadata": {},
   "source": [
    "### Sequence Alignment: global\n",
    "Global alignment between $X=(x_1,\\dots,x_n)$ and $Y=(y_1,\\dots,y_m)$.\n",
    "- Initialization: $F(0,0)=0,\\ F(i,0)=-id,\\ F(0,j)=-jd\\ \\forall\\ i,j$\n",
    "\n",
    "- Recursion: $F(i,j)=\\max{\\begin{cases}F(i-1,j-1)+s(x_i,u_j) & \\text{Substitution}\\\\F(i-1,j)-d & \\text{Deletion (in X)}\\\\F(i,j-1)-d & \\text{Insertion (in Y)}\\end{cases}}$ for $\\begin{cases}0\\leq i \\leq n \\\\ 0\\leq j \\leq m\\end{cases}$\n",
    "\n",
    "- Termination: $F(n,m)$ optimal score"
   ]
  },
  {
   "cell_type": "code",
   "execution_count": 49,
   "metadata": {},
   "outputs": [
    {
     "data": {
      "text/plain": [
       "overlapAlignment (generic function with 1 method)"
      ]
     },
     "metadata": {},
     "output_type": "display_data"
    }
   ],
   "source": [
    "#=\n",
    "x = \"wheea\" -> |x| = 5\n",
    "y = \"hepga\" -> |y| = 5\n",
    "whe-ea\n",
    "-hepga\n",
    "DMMISM\n",
    "D: DELETION\n",
    "M: MATCH\n",
    "I: INSERTION\n",
    "S: SUBSTITUTION\n",
    "\n",
    "    0   1   2   3   4   5\n",
    "0   0  -1  -2  -3  -4  -5     \n",
    "1  -1 \n",
    "2  -2 \n",
    "3  -3 \n",
    "4  -4 \n",
    "5  -5 \n",
    "=#\n",
    "\n",
    "function simpleAlignment(x,y)\n",
    "    d = 1\n",
    "    # initialization\n",
    "    F = zeros(Int64,length(x) + 1,length(y) + 1)\n",
    "    F[1,1] = 0\n",
    "    for i in eachindex(x)\n",
    "        F[i + 1,1] = - d * i\n",
    "        for j in eachindex(y)\n",
    "            F[1,j + 1] = - d * j\n",
    "            F[i + 1,j + 1] = max(F[i,j] - (x[i] != y[j]),F[i,j + 1] - d,F[i + 1,j] - d)\n",
    "        end\n",
    "    end\n",
    "    return F\n",
    "end\n",
    "\n",
    "function globalAlignment(x,y)\n",
    "    d = 8\n",
    "    # initialization\n",
    "    F = zeros(Int64,length(x) + 1,length(y) + 1)\n",
    "    F[1,1] = 0\n",
    "    for i in eachindex(x)\n",
    "        F[i + 1,1] = - d * i\n",
    "        for j in eachindex(y)\n",
    "            F[1,j + 1] = - d * j\n",
    "            F[i + 1,j + 1] = max(F[i,j] + blosum(x[i],y[j]),F[i,j + 1] - d,F[i + 1,j] - d)\n",
    "        end\n",
    "    end\n",
    "    return F\n",
    "end\n",
    "\n",
    "function localAlignment(x,y)\n",
    "    d = 8\n",
    "    # initialization\n",
    "    F = zeros(Int64,length(x) + 1,length(y) + 1)\n",
    "    F[1,1] = 0\n",
    "    for i in eachindex(x)\n",
    "        F[i + 1,1] = 0\n",
    "        for j in eachindex(y)\n",
    "            F[1,j + 1] = 0\n",
    "            F[i + 1,j + 1] = max(0, F[i,j] + blosum(x[i],y[j]),F[i,j + 1] - d,F[i + 1,j] - d)\n",
    "        end\n",
    "    end\n",
    "    return F\n",
    "end\n",
    "\n",
    "function overlapAlignment(x,y)\n",
    "    d = 8\n",
    "    # initialization\n",
    "    F = zeros(Int64,length(x) + 1,length(y) + 1)\n",
    "    F[1,1] = 0\n",
    "    for i in eachindex(x)\n",
    "        F[i + 1,1] = 0\n",
    "        for j in eachindex(y)\n",
    "            F[1,j + 1] = 0\n",
    "            F[i + 1,j + 1] = max(F[i,j] + blosum(x[i],y[j]),F[i,j + 1] - d,F[i + 1,j] - d)\n",
    "        end\n",
    "    end\n",
    "    return F\n",
    "end"
   ]
  },
  {
   "cell_type": "code",
   "execution_count": 8,
   "metadata": {},
   "outputs": [
    {
     "data": {
      "text/plain": [
       "blosum (generic function with 1 method)"
      ]
     },
     "metadata": {},
     "output_type": "display_data"
    }
   ],
   "source": [
    "# Entries for the BLOSUM50 matrix at a scale of ln(2)/3.0.\n",
    "# https://www.ncbi.nlm.nih.gov/IEB/ToolBox/C_DOC/lxr/source/data/BLOSUM50\n",
    "#  A  R  N  D  C  Q  E  G  H  I  L  K  M  F  P  S  T  W  Y  V  B  J  Z  X  *\n",
    "\n",
    "blosum50 = [\n",
    "[  5 -2 -1 -2 -1 -1 -1  0 -2 -1 -2 -1 -1 -3 -1  1  0 -3 -2  0 -2 -2 -1 -1 -5 ]\n",
    "[ -2  7 -1 -2 -4  1  0 -3  0 -4 -3  3 -2 -3 -3 -1 -1 -3 -1 -3 -1 -3  0 -1 -5 ]\n",
    "[ -1 -1  7  2 -2  0  0  0  1 -3 -4  0 -2 -4 -2  1  0 -4 -2 -3  5 -4  0 -1 -5 ]\n",
    "[ -2 -2  2  8 -4  0  2 -1 -1 -4 -4 -1 -4 -5 -1  0 -1 -5 -3 -4  6 -4  1 -1 -5 ]\n",
    "[ -1 -4 -2 -4 13 -3 -3 -3 -3 -2 -2 -3 -2 -2 -4 -1 -1 -5 -3 -1 -3 -2 -3 -1 -5 ]\n",
    "[ -1  1  0  0 -3  7  2 -2  1 -3 -2  2  0 -4 -1  0 -1 -1 -1 -3  0 -3  4 -1 -5 ]\n",
    "[ -1  0  0  2 -3  2  6 -3  0 -4 -3  1 -2 -3 -1 -1 -1 -3 -2 -3  1 -3  5 -1 -5 ]\n",
    "[  0 -3  0 -1 -3 -2 -3  8 -2 -4 -4 -2 -3 -4 -2  0 -2 -3 -3 -4 -1 -4 -2 -1 -5 ]\n",
    "[ -2  0  1 -1 -3  1  0 -2 10 -4 -3  0 -1 -1 -2 -1 -2 -3  2 -4  0 -3  0 -1 -5 ]\n",
    "[ -1 -4 -3 -4 -2 -3 -4 -4 -4  5  2 -3  2  0 -3 -3 -1 -3 -1  4 -4  4 -3 -1 -5 ]\n",
    "[ -2 -3 -4 -4 -2 -2 -3 -4 -3  2  5 -3  3  1 -4 -3 -1 -2 -1  1 -4  4 -3 -1 -5 ]\n",
    "[ -1  3  0 -1 -3  2  1 -2  0 -3 -3  6 -2 -4 -1  0 -1 -3 -2 -3  0 -3  1 -1 -5 ]\n",
    "[ -1 -2 -2 -4 -2  0 -2 -3 -1  2  3 -2  7  0 -3 -2 -1 -1  0  1 -3  2 -1 -1 -5 ]\n",
    "[ -3 -3 -4 -5 -2 -4 -3 -4 -1  0  1 -4  0  8 -4 -3 -2  1  4 -1 -4  1 -4 -1 -5 ]\n",
    "[ -1 -3 -2 -1 -4 -1 -1 -2 -2 -3 -4 -1 -3 -4 10 -1 -1 -4 -3 -3 -2 -3 -1 -1 -5 ]\n",
    "[  1 -1  1  0 -1  0 -1  0 -1 -3 -3  0 -2 -3 -1  5  2 -4 -2 -2  0 -3  0 -1 -5 ]\n",
    "[  0 -1  0 -1 -1 -1 -1 -2 -2 -1 -1 -1 -1 -2 -1  2  5 -3 -2  0  0 -1 -1 -1 -5 ]\n",
    "[ -3 -3 -4 -5 -5 -1 -3 -3 -3 -3 -2 -3 -1  1 -4 -4 -3 15  2 -3 -5 -2 -2 -1 -5 ]\n",
    "[ -2 -1 -2 -3 -3 -1 -2 -3  2 -1 -1 -2  0  4 -3 -2 -2  2  8 -1 -3 -1 -2 -1 -5 ]\n",
    "[  0 -3 -3 -4 -1 -3 -3 -4 -4  4  1 -3  1 -1 -3 -2  0 -3 -1  5 -3  2 -3 -1 -5 ]\n",
    "[ -2 -1  5  6 -3  0  1 -1  0 -4 -4  0 -3 -4 -2  0  0 -5 -3 -3  6 -4  1 -1 -5 ]\n",
    "[ -2 -3 -4 -4 -2 -3 -3 -4 -3  4  4 -3  2  1 -3 -3 -1 -2 -1  2 -4  4 -3 -1 -5 ]\n",
    "[ -1  0  0  1 -3  4  5 -2  0 -3 -3  1 -1 -4 -1  0 -1 -2 -2 -3  1 -3  5 -1 -5 ]\n",
    "[ -1 -1 -1 -1 -1 -1 -1 -1 -1 -1 -1 -1 -1 -1 -1 -1 -1 -1 -1 -1 -1 -1 -1 -1 -5 ]\n",
    "[ -5 -5 -5 -5 -5 -5 -5 -5 -5 -5 -5 -5 -5 -5 -5 -5 -5 -5 -5 -5 -5 -5 -5 -5  1 ]\n",
    "]\n",
    "\n",
    "aal = [\"A\" \"R\" \"N\" \"D\" \"C\" \"Q\" \"E\" \"G\" \"H\" \"I\" \"L\" \"K\" \"M\" \"F\" \"P\" \"S\" \"T\" \"W\" \"Y\" \"V\" \"B\" \"J\" \"Z\" \"X\" \"*\"]\n",
    "aa = Dict(aal[k] => k for k in 1:length(aal))\n",
    "\n",
    "function blosum(x,y)\n",
    "    blosum50[aa[string(x)],aa[string(y)]]\n",
    "end"
   ]
  },
  {
   "cell_type": "code",
   "execution_count": 50,
   "metadata": {},
   "outputs": [
    {
     "data": {
      "text/plain": [
       "8×11 Matrix{Int64}:\n",
       "  0  -1  -2  -3  -4  -5  -6  -7  -8  -9  -10\n",
       " -1  -1  -2  -3  -4  -5  -6  -7  -8  -9  -10\n",
       " -2  -2  -2  -2  -3  -4  -5  -6  -7  -8   -9\n",
       " -3  -3  -3  -3  -3  -4  -4  -5  -6  -7   -8\n",
       " -4  -3  -4  -4  -4  -4  -5  -5  -5  -6   -7\n",
       " -5  -4  -3  -4  -5  -5  -5  -6  -6  -5   -6\n",
       " -6  -5  -4  -3  -4  -5  -6  -6  -7  -6   -6\n",
       " -7  -6  -5  -4  -4  -5  -6  -7  -7  -7   -6"
      ]
     },
     "metadata": {},
     "output_type": "display_data"
    }
   ],
   "source": [
    "#=\n",
    "---PAW-HEAE\n",
    "HEAGAWGHE-E\n",
    "=#\n",
    "#globalAlignment(HBB_Human,HBA_Bonobo)\n",
    "simpleAlignment(\"PAWHEAE\",\"HEAGAWGHEE\")\n",
    "#globalAlignment(\"PAWHEAE\",\"HEAGAWGHEE\")\n",
    "#overlapAlignment(\"PAWHEAE\",\"HEAGAWGHEE\")"
   ]
  },
  {
   "cell_type": "code",
   "execution_count": 53,
   "metadata": {},
   "outputs": [],
   "source": []
  },
  {
   "cell_type": "code",
   "execution_count": null,
   "metadata": {},
   "outputs": [],
   "source": []
  }
 ],
 "metadata": {
  "kernelspec": {
   "display_name": "Julia 1.8.2",
   "language": "julia",
   "name": "julia-1.8"
  },
  "language_info": {
   "file_extension": ".jl",
   "mimetype": "application/julia",
   "name": "julia",
   "version": "1.8.2"
  },
  "orig_nbformat": 4
 },
 "nbformat": 4,
 "nbformat_minor": 2
}
